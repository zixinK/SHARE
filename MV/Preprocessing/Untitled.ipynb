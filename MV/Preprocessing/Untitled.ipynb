{
 "cells": [
  {
   "cell_type": "code",
   "execution_count": 14,
   "id": "b34d33e3-f12c-4671-9b17-431c85f5e064",
   "metadata": {},
   "outputs": [],
   "source": [
    "import json\n",
    "# set_display_options()\n",
    "import os\n",
    "import re\n",
    "import subprocess\n",
    "import logging\n",
    "import zipfile\n",
    "import urllib.request as request\n",
    "from typing import List, Dict\n",
    "\n",
    "import pandas as pd"
   ]
  },
  {
   "cell_type": "code",
   "execution_count": 5,
   "id": "f752392c-2da1-491f-a361-b54f52ad592d",
   "metadata": {},
   "outputs": [],
   "source": [
    "from config.global_config import global_config"
   ]
  },
  {
   "cell_type": "code",
   "execution_count": 18,
   "id": "1cb4654c-3e0a-4b50-b751-068684050b0c",
   "metadata": {},
   "outputs": [],
   "source": [
    "logger = logging.getLogger()\n",
    "formatter = logging.Formatter('%(asctime)s - %(name)s - %(levelname)s - %(message)s')"
   ]
  },
  {
   "cell_type": "code",
   "execution_count": 7,
   "id": "d6e76b00-67b3-4822-8f0a-c9c8380f1585",
   "metadata": {},
   "outputs": [],
   "source": [
    "\n",
    "TASK2PATH = {\n",
    "    \"vitaminc\": \"https://github.com/TalSchuster/talschuster.github.io/raw/master/static/vitaminc.zip\",\n",
    "    \"vitaminc_real\": \"https://github.com/TalSchuster/talschuster.github.io/raw/master/static/vitaminc_real.zip\",\n",
    "    \"vitaminc_synthetic\": \"https://github.com/TalSchuster/talschuster.github.io/raw/master/static/vitaminc_synthetic.zip\",\n",
    "    \"vitaminc_flagging\": \"https://github.com/TalSchuster/talschuster.github.io/raw/master/static/vitaminc_flagging.zip\",\n",
    "    \"vitaminc_rationale\": \"https://github.com/TalSchuster/talschuster.github.io/raw/master/static/vitaminc_rationale.zip\",\n",
    "\n",
    "    \"fever\": \"https://github.com/TalSchuster/talschuster.github.io/raw/master/static/vitaminc_baselines/fever.zip\",\n",
    "    \"mnli\": \"https://github.com/TalSchuster/talschuster.github.io/raw/master/static/vitaminc_baselines/mnli.zip\",\n",
    "    \"fever_adversarial\": \"https://github.com/TalSchuster/talschuster.github.io/raw/master/static/vitaminc_baselines/fever_adversarial.zip\",\n",
    "    \"fever_symmetric\": \"https://github.com/TalSchuster/talschuster.github.io/raw/master/static/vitaminc_baselines/fever_symmetric.zip\",\n",
    "    \"fever_triggers\": \"https://github.com/TalSchuster/talschuster.github.io/raw/master/static/vitaminc_baselines/fever_triggers.zip\",\n",
    "    \"anli\": \"https://github.com/TalSchuster/talschuster.github.io/raw/master/static/vitaminc_baselines/anli.zip\",\n",
    "}"
   ]
  },
  {
   "cell_type": "code",
   "execution_count": 20,
   "id": "f395ad44-abf9-4812-b01c-913d602e4550",
   "metadata": {},
   "outputs": [],
   "source": [
    "def download_and_extract(task, data_dir):\n",
    "    if task not in TASK2PATH:\n",
    "        logger.warning(\"No stored url for task %s. Please download manually.\" % task)\n",
    "        return\n",
    "    logger.info(\"Downloading and extracting %s...\" % task)\n",
    "    data_file = \"%s.zip\" % task\n",
    "    request.urlretrieve(TASK2PATH[task], data_file)\n",
    "    with zipfile.ZipFile(data_file) as zip_ref:\n",
    "        zip_ref.extractall(data_dir)\n",
    "    #os.remove(data_file)\n",
    "    logger.info(\"Completed! Stored at %s\" % data_dir)\n"
   ]
  },
  {
   "cell_type": "code",
   "execution_count": 21,
   "id": "87b97bc0-fc10-44e3-bd42-d6acd66ee9b7",
   "metadata": {},
   "outputs": [],
   "source": [
    "download_and_extract('vitaminc_rationale',global_config['data_directory'])"
   ]
  },
  {
   "cell_type": "code",
   "execution_count": null,
   "id": "124abe65-6643-4155-ac08-20a8984d4765",
   "metadata": {},
   "outputs": [],
   "source": []
  }
 ],
 "metadata": {
  "kernelspec": {
   "display_name": "Python 3 (ipykernel)",
   "language": "python",
   "name": "python3"
  },
  "language_info": {
   "codemirror_mode": {
    "name": "ipython",
    "version": 3
   },
   "file_extension": ".py",
   "mimetype": "text/x-python",
   "name": "python",
   "nbconvert_exporter": "python",
   "pygments_lexer": "ipython3",
   "version": "3.9.12"
  }
 },
 "nbformat": 4,
 "nbformat_minor": 5
}
