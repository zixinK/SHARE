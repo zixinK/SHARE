{
 "cells": [
  {
   "cell_type": "code",
   "execution_count": 3,
   "id": "dc3cdb99-c924-4044-a229-42c5a9767365",
   "metadata": {},
   "outputs": [],
   "source": [
    "import pandas as pd\n",
    "# 将表头的字段名也读取出来\n",
    "train=pd.read_csv('sst/train.tsv', sep='\\t', header=0)"
   ]
  },
  {
   "cell_type": "code",
   "execution_count": 5,
   "id": "558a5a8e-f4f3-4412-a100-b42829c0001b",
   "metadata": {},
   "outputs": [
    {
     "data": {
      "text/plain": [
       "pandas.core.frame.DataFrame"
      ]
     },
     "execution_count": 5,
     "metadata": {},
     "output_type": "execute_result"
    }
   ],
   "source": [
    "type(train)"
   ]
  },
  {
   "cell_type": "code",
   "execution_count": 7,
   "id": "faeb4e86-e8aa-46bf-bc77-54024fdf60eb",
   "metadata": {},
   "outputs": [],
   "source": [
    "newtrain = train.sample(frac=0.1,axis=0)"
   ]
  },
  {
   "cell_type": "code",
   "execution_count": 8,
   "id": "f8a8e33a-a140-43d9-bead-600c4584534c",
   "metadata": {},
   "outputs": [],
   "source": [
    "newtrain.to_csv('train.tsv',sep=\"\\t\", index=False)"
   ]
  }
 ],
 "metadata": {
  "kernelspec": {
   "display_name": "Python 3 (ipykernel)",
   "language": "python",
   "name": "python3"
  },
  "language_info": {
   "codemirror_mode": {
    "name": "ipython",
    "version": 3
   },
   "file_extension": ".py",
   "mimetype": "text/x-python",
   "name": "python",
   "nbconvert_exporter": "python",
   "pygments_lexer": "ipython3",
   "version": "3.9.12"
  }
 },
 "nbformat": 4,
 "nbformat_minor": 5
}
