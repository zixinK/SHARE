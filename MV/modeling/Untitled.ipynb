{
 "cells": [
  {
   "cell_type": "code",
   "execution_count": 1,
   "id": "34e17cc0-81c4-483c-bec9-2787d4a35171",
   "metadata": {},
   "outputs": [],
   "source": [
    "from transformers import GPT2Model, GPT2Config, GPT2Tokenizer, GPT2ForSequenceClassification\n",
    "config = GPT2Config.from_pretrained('gpt2')\n",
    "model = GPT2Model(config)\n",
    "model.classifier = GPT2ForSequenceClassification.from_pretrained('mv_gpt2')\n",
    "from transformers import AutoTokenizer\n",
    "tokenizer = AutoTokenizer.from_pretrained('gpt2')"
   ]
  },
  {
   "cell_type": "code",
   "execution_count": 3,
   "id": "ceb46c92-8921-457b-9674-5de62ac833c8",
   "metadata": {},
   "outputs": [],
   "source": [
    "from transformers import WEIGHTS_NAME, CONFIG_NAME\n",
    "import torch\n",
    "import os\n",
    "# torch.save(model.state_dict(), 'moviet5_c')\n",
    "\n",
    "model_to_save = model.module if hasattr(model, 'module') else model\n",
    "output_model_file = os.path.join('mvgpt2_c', WEIGHTS_NAME)\n",
    "output_config_file = os.path.join('mvgpt2_c', CONFIG_NAME)\n",
    "tokenizer.save_vocabulary('mvgpt2_c')\n",
    "tokenizer.save_pretrained('mvgpt2_c')\n",
    "\n",
    "torch.save(model_to_save.state_dict(), output_model_file)\n",
    "model_to_save.config.to_json_file(output_config_file)"
   ]
  },
  {
   "cell_type": "code",
   "execution_count": null,
   "id": "b0ef7e62-239e-4c28-bf16-f98c5ee40dc9",
   "metadata": {},
   "outputs": [],
   "source": []
  },
  {
   "cell_type": "code",
   "execution_count": 6,
   "id": "5f18593e-5a85-4f73-a908-a17690703836",
   "metadata": {},
   "outputs": [
    {
     "data": {
      "application/vnd.jupyter.widget-view+json": {
       "model_id": "3840898f296c4d039ce2d146c1d99423",
       "version_major": 2,
       "version_minor": 0
      },
      "text/plain": [
       "Downloading (…)lve/main/config.json:   0%|          | 0.00/1.21k [00:00<?, ?B/s]"
      ]
     },
     "metadata": {},
     "output_type": "display_data"
    },
    {
     "data": {
      "application/vnd.jupyter.widget-view+json": {
       "model_id": "95061ed1931d4ea6aac068cff9fa85eb",
       "version_major": 2,
       "version_minor": 0
      },
      "text/plain": [
       "Downloading (…)okenizer_config.json:   0%|          | 0.00/2.32k [00:00<?, ?B/s]"
      ]
     },
     "metadata": {},
     "output_type": "display_data"
    },
    {
     "data": {
      "application/vnd.jupyter.widget-view+json": {
       "model_id": "ce9d6e4a215c4a70acf68f1f16c4ebfe",
       "version_major": 2,
       "version_minor": 0
      },
      "text/plain": [
       "Downloading (…)ve/main/spiece.model:   0%|          | 0.00/792k [00:00<?, ?B/s]"
      ]
     },
     "metadata": {},
     "output_type": "display_data"
    }
   ],
   "source": [
    "from transformers import T5EncoderModel\n",
    "from transformers import AutoConfig\n",
    "from transformers import T5ForConditionalGeneration\n",
    "config = AutoConfig.from_pretrained('t5-small')\n",
    "model = T5EncoderModel(config)\n",
    "model.classifier = T5ForConditionalGeneration.from_pretrained('mv_t5small')\n",
    "from transformers import AutoTokenizer\n",
    "tokenizer = AutoTokenizer.from_pretrained('t5-small')"
   ]
  },
  {
   "cell_type": "code",
   "execution_count": 8,
   "id": "1acee8a2-56f2-436f-a22e-85d63af1ec37",
   "metadata": {},
   "outputs": [],
   "source": [
    "from transformers import WEIGHTS_NAME, CONFIG_NAME\n",
    "import torch\n",
    "import os\n",
    "# torch.save(model.state_dict(), 'moviet5_c')\n",
    "\n",
    "model_to_save = model.module if hasattr(model, 'module') else model\n",
    "output_model_file = os.path.join('moviet5_c', WEIGHTS_NAME)\n",
    "output_config_file = os.path.join('moviet5_c', CONFIG_NAME)\n",
    "tokenizer.save_vocabulary('moviet5_c')\n",
    "tokenizer.save_pretrained('moviet5_c')\n",
    "\n",
    "torch.save(model_to_save.state_dict(), output_model_file)\n",
    "model_to_save.config.to_json_file(output_config_file)"
   ]
  },
  {
   "cell_type": "code",
   "execution_count": null,
   "id": "cbe09052-e7e3-40cb-b8ce-f2f91209d827",
   "metadata": {},
   "outputs": [],
   "source": []
  }
 ],
 "metadata": {
  "kernelspec": {
   "display_name": "Python 3 (ipykernel)",
   "language": "python",
   "name": "python3"
  },
  "language_info": {
   "codemirror_mode": {
    "name": "ipython",
    "version": 3
   },
   "file_extension": ".py",
   "mimetype": "text/x-python",
   "name": "python",
   "nbconvert_exporter": "python",
   "pygments_lexer": "ipython3",
   "version": "3.8.10"
  }
 },
 "nbformat": 4,
 "nbformat_minor": 5
}
